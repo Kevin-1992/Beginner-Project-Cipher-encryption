{
  "nbformat": 4,
  "nbformat_minor": 0,
  "metadata": {
    "colab": {
      "name": "Cipher encription.ipynb",
      "provenance": [],
      "authorship_tag": "ABX9TyPdAMa+cKw6respoNZ92l8W",
      "include_colab_link": true
    },
    "kernelspec": {
      "name": "python3",
      "display_name": "Python 3"
    }
  },
  "cells": [
    {
      "cell_type": "markdown",
      "metadata": {
        "id": "view-in-github",
        "colab_type": "text"
      },
      "source": [
        "<a href=\"https://colab.research.google.com/github/Kevin-1992/Cipher-encryption/blob/main/Cipher_encription.ipynb\" target=\"_parent\"><img src=\"https://colab.research.google.com/assets/colab-badge.svg\" alt=\"Open In Colab\"/></a>"
      ]
    },
    {
      "cell_type": "code",
      "metadata": {
        "colab": {
          "base_uri": "https://localhost:8080/"
        },
        "id": "ZoXFormh1yMl",
        "outputId": "97ddd5f2-40c3-46bb-bfeb-570dbddf3d3e"
      },
      "source": [
        "def encrypt(user_message, shift_movement):\r\n",
        "  cipher_text = \"\"\r\n",
        "  for i in user_message:\r\n",
        "    if i in alphabet:\r\n",
        "      position = alphabet.index(i)\r\n",
        "      new_position = position+shift_movement\r\n",
        "      new_letter = alphabet[new_position]\r\n",
        "      cipher_text = cipher_text+new_letter\r\n",
        "    else:\r\n",
        "      cipher_text = cipher_text + i\r\n",
        "  print(cipher_text)\r\n",
        "def decrypt(user_message, shift_movement):\r\n",
        "  cipher_text = \"\"\r\n",
        "  for i in user_message:\r\n",
        "    if i in alphabet:\r\n",
        "      position = alphabet.index(i)\r\n",
        "      new_position = position-shift_movement\r\n",
        "      new_letter = alphabet[new_position]\r\n",
        "      cipher_text = cipher_text+new_letter\r\n",
        "    else:\r\n",
        "      cipher_text = cipher_text  +i\r\n",
        "  print(cipher_text)\r\n",
        "\r\n",
        "\r\n",
        "alphabet =['a','b','c','d','e','f','g','h','i','j','k','l','m','n','o','p','q','r','s','t','u','v','w','x','y','z','a','b','c','d','e','f','g','h','i','j','k','l','m','n','o','p','q','r','s','t','u','v','w','x','y','z']\r\n",
        "keep_ciphering = True\r\n",
        "while keep_ciphering:\r\n",
        "  direction = input(\"Type 'encode' to encrypt, type 'decode' to decrypt:\\n \")\r\n",
        "  text = input(\"type your message:\\n\").lower()\r\n",
        "  shift = int(input(\"type the shift number:\\n\"))\r\n",
        "  shift = shift%26\r\n",
        "  if direction == 'encode':\r\n",
        "    encripted = encrypt(user_message =  text, shift_movement = shift)\r\n",
        "    \r\n",
        "  elif direction == 'decode':\r\n",
        "    decripted = decrypt(user_message =  text, shift_movement = shift)\r\n",
        "  result = input(\"Keep encripting or decripting? y/n \")\r\n",
        "  if result ==\"n\":\r\n",
        "    keep_ciphering = False"
      ],
      "execution_count": null,
      "outputs": [
        {
          "output_type": "stream",
          "text": [
            "Type 'encode' to encrypt, type 'decode' to decrypt:\n",
            " encode\n",
            "type your message:\n",
            "hello world\n",
            "type the shift number:\n",
            "10\n",
            "rovvy gybvn\n",
            "Keep encripting or decripting? y/n y\n",
            "Type 'encode' to encrypt, type 'decode' to decrypt:\n",
            " decode\n",
            "type your message:\n",
            "rovvy gybvn\n",
            "type the shift number:\n",
            "10\n",
            "hello world\n",
            "Keep encripting or decripting? y/n n\n"
          ],
          "name": "stdout"
        }
      ]
    }
  ]
}